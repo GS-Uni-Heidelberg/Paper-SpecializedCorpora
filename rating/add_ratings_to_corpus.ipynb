{
 "cells": [
  {
   "cell_type": "code",
   "execution_count": null,
   "id": "3b4859c2",
   "metadata": {},
   "outputs": [],
   "source": [
    "from pathlib import Path\n",
    "import os"
   ]
  },
  {
   "cell_type": "markdown",
   "id": "135e5041",
   "metadata": {},
   "source": [
    "The manual annotations where produced by dragging the documents into one of three folders. So we have to do some funny filesystem things to interpret them..."
   ]
  },
  {
   "cell_type": "code",
   "execution_count": null,
   "id": "b2b027a6",
   "metadata": {},
   "outputs": [],
   "source": [
    "def get_rankings(base_path):\n",
    "    rankings = {}\n",
    "    folders = sorted(os.listdir(base_path))\n",
    "    folders = [folder for folder in folders if folder[0] in {'1', '2', '3'}]\n",
    "    folders.sort(key=lambda x: int(x.split('_')[0]))\n",
    "    # Assign ranks based on folder order\n",
    "    for rank, folder in enumerate(folders, start=1):\n",
    "        folder_path = os.path.join(base_path, folder)\n",
    "        if os.path.isdir(folder_path):\n",
    "            for file in os.listdir(folder_path):\n",
    "                rankings[file] = folder\n",
    "    return rankings"
   ]
  },
  {
   "cell_type": "code",
   "execution_count": null,
   "id": "60d19f5d",
   "metadata": {},
   "outputs": [],
   "source": [
    "import json\n",
    "\n",
    "\n",
    "def add_annotations(goal_path, rankings, annotator_name, overwrite=False):\n",
    "    for file in rankings:\n",
    "        # find corresponding json file in goal_path\n",
    "        base_name = Path(file).stem\n",
    "        json_file = os.path.join(goal_path, base_name + '.json')\n",
    "        if os.path.exists(json_file):\n",
    "            with open(json_file, 'r') as f:\n",
    "                data = json.load(f)\n",
    "            # add rank to json\n",
    "            if annotator_name not in data or overwrite:\n",
    "                data[annotator_name] = rankings[file]\n",
    "        else:\n",
    "            print(f\"File {json_file} does not exist.\")\n",
    "\n",
    "        # write json file\n",
    "        with open(json_file, 'w') as f:\n",
    "            json.dump(data, f, indent=4)"
   ]
  },
  {
   "cell_type": "code",
   "execution_count": null,
   "id": "1acb15bd",
   "metadata": {},
   "outputs": [],
   "source": [
    "rankings_folders_expert1 = [\n",
    "    '/home/brunobrocai/Data/MoWiKo/Paper-themKorp/_annotated_/annotateSelection-expert1',\n",
    "    '/home/brunobrocai/Data/MoWiKo/Paper-themKorp/_annotated_/annotationBaseline2-expert1',\n",
    "    '/home/brunobrocai/Data/MoWiKo/Paper-themKorp/_annotated_/annotationMarcel-expert1',\n",
    "    '/home/brunobrocai/Data/MoWiKo/Paper-themKorp/_annotated_/annotateInfoAkt-expert1'\n",
    "]\n",
    "rankings_folders_expert2 = [\n",
    "    '/home/brunobrocai/Data/MoWiKo/Paper-themKorp/_annotated_/annotateSelection-expert2',\n",
    "    '/home/brunobrocai/Code/Paper-themKorpus/RQTR/_anno_/annotationBaseline2',\n",
    "    '/home/brunobrocai/Code/Paper-themKorpus/RQTR/_anno_/annotationCollocationPMI1',\n",
    "    '/home/brunobrocai/Data/MoWiKo/Paper-themKorp/_annotated_/annotateAI-expert2'\n",
    "]\n",
    "rankings_folders_student1 = [\n",
    "    '/home/brunobrocai/Data/MoWiKo/Paper-themKorp/_annotated_/annotateSelection-student1',\n",
    "    '/home/brunobrocai/Data/MoWiKo/Paper-themKorp/_annotated_/annotationRegex-student1'\n",
    "]\n",
    "rankings_folders_student2 = [\n",
    "    '/home/brunobrocai/Data/MoWiKo/Paper-themKorp/_annotated_/annotationRegex-student2'\n",
    "]"
   ]
  },
  {
   "cell_type": "code",
   "execution_count": null,
   "id": "af167b57",
   "metadata": {},
   "outputs": [],
   "source": [
    "def get_rankings_dirlist(dirlist):\n",
    "    rankings = {}\n",
    "    for base_path in dirlist:\n",
    "        rankings.update(get_rankings(base_path))\n",
    "    return rankings\n",
    "\n",
    "rankings_expert2 = get_rankings_dirlist(rankings_folders_expert1)\n",
    "rankings_expert1 = get_rankings_dirlist(rankings_folders_expert1)\n",
    "rankings_student1 = get_rankings_dirlist(rankings_folders_student1)\n",
    "rankings_student2 = get_rankings_dirlist(rankings_folders_student2)"
   ]
  },
  {
   "cell_type": "code",
   "execution_count": null,
   "id": "d8726117",
   "metadata": {},
   "outputs": [],
   "source": [
    "add_annotations(\n",
    "    'final_corpus',\n",
    "    rankings_expert2,\n",
    "    'expert_annotator_2',\n",
    "    overwrite=True\n",
    ")\n",
    "add_annotations(\n",
    "    'final_corpus',\n",
    "    rankings_expert1,\n",
    "    'expert_annotator_1',\n",
    "    overwrite=True\n",
    ")\n",
    "add_annotations(\n",
    "    'final_corpus',\n",
    "    rankings_student1,\n",
    "    'student_annotator_1',\n",
    "    overwrite=False\n",
    ")\n",
    "add_annotations(\n",
    "    'final_corpus',\n",
    "    rankings_student2,\n",
    "    'student_annotator_2',\n",
    "    overwrite=False\n",
    ")"
   ]
  }
 ],
 "metadata": {
  "kernelspec": {
   "display_name": ".venv",
   "language": "python",
   "name": "python3"
  },
  "language_info": {
   "codemirror_mode": {
    "name": "ipython",
    "version": 3
   },
   "file_extension": ".py",
   "mimetype": "text/x-python",
   "name": "python",
   "nbconvert_exporter": "python",
   "pygments_lexer": "ipython3",
   "version": "3.12.3"
  }
 },
 "nbformat": 4,
 "nbformat_minor": 5
}
