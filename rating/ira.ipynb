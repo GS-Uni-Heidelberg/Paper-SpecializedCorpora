{
 "cells": [
  {
   "cell_type": "markdown",
   "metadata": {},
   "source": [
    "# Inter Rater Agreement\n",
    "With this notebook, you can calculate the IAA for our categorizations."
   ]
  },
  {
   "cell_type": "code",
   "execution_count": null,
   "metadata": {},
   "outputs": [],
   "source": [
    "import pandas as pd\n",
    "import numpy as np\n",
    "from krippendorff import alpha"
   ]
  },
  {
   "cell_type": "code",
   "execution_count": 18,
   "metadata": {},
   "outputs": [],
   "source": [
    "# Load the info on which files are part of the final annotation round\n",
    "\n",
    "with open('final_annotation_round.txt', 'r') as f:\n",
    "    final_annotation_round = f.read().splitlines()\n",
    "final_annotation_round_set = set(final_annotation_round)"
   ]
  },
  {
   "cell_type": "code",
   "execution_count": null,
   "metadata": {},
   "outputs": [
    {
     "name": "stdout",
     "output_type": "stream",
     "text": [
      "Data shape: (4, 77)\n",
      "Unique values: [1. 2. 3.]\n",
      "Missing values per annotator: [np.int64(0), np.int64(0), np.int64(1), np.int64(0)]\n",
      "Krippendorff's Alpha (ordinal): 0.870\n",
      "Krippendorff's Alpha (nominal): 0.690\n"
     ]
    }
   ],
   "source": [
    "def extract_rank_from_annotation(annotation):\n",
    "    \"\"\"\n",
    "    Extracts the rank number from annotation strings like '1_hauptthema', '2_nebenthema', etc.\n",
    "\n",
    "    Parameters:\n",
    "        annotation (str): The annotation string.\n",
    "\n",
    "    Returns:\n",
    "        int or np.nan: The extracted rank or np.nan if extraction fails.\n",
    "    \"\"\"\n",
    "    if pd.isna(annotation) or annotation is None:\n",
    "        return np.nan\n",
    "\n",
    "    try:\n",
    "        # Extract the number before the first underscore\n",
    "        rank = int(str(annotation).split('_')[0])\n",
    "        return rank\n",
    "    except (ValueError, IndexError):\n",
    "        return np.nan\n",
    "\n",
    "def prepare_data_from_dataframe(df, annotator_columns):\n",
    "    \"\"\"\n",
    "    Prepares the data for Krippendorff's alpha calculation from a DataFrame.\n",
    "\n",
    "    Parameters:\n",
    "        df (pd.DataFrame): The DataFrame containing annotations.\n",
    "        annotator_columns (list of str): List of column names for annotators.\n",
    "\n",
    "    Returns:\n",
    "        np.ndarray: A 2D array where rows are annotators and columns are items.\n",
    "    \"\"\"\n",
    "    # Extract only the relevant columns\n",
    "    annotations = df[annotator_columns].copy()\n",
    "\n",
    "    # Extract ranks from annotation strings\n",
    "    for col in annotator_columns:\n",
    "        annotations[col] = annotations[col].apply(extract_rank_from_annotation)\n",
    "\n",
    "    # Transpose the data to match Krippendorff's alpha format (annotators as rows)\n",
    "    return annotations.T.values\n",
    "\n",
    "def calculate_krippendorff_alpha_from_dataframe(df, annotator_columns):\n",
    "    \"\"\"\n",
    "    Calculate Krippendorff's alpha from a DataFrame of annotations.\n",
    "\n",
    "    Parameters:\n",
    "        df (pd.DataFrame): The DataFrame containing annotations.\n",
    "        annotator_columns (list of str): List of column names for annotators.\n",
    "\n",
    "    Returns:\n",
    "        dict: Dictionary containing ordinal and nominal alpha values or error messages.\n",
    "    \"\"\"\n",
    "    results = {}\n",
    "\n",
    "    try:\n",
    "        # Prepare the data\n",
    "        kripp_data = prepare_data_from_dataframe(df, annotator_columns)\n",
    "\n",
    "        # Debug: Print some info about the data\n",
    "        print(f\"Data shape: {kripp_data.shape}\")\n",
    "        print(f\"Unique values: {np.unique(kripp_data[~np.isnan(kripp_data)])}\")\n",
    "        print(f\"Missing values per annotator: {[np.sum(np.isnan(row)) for row in kripp_data]}\")\n",
    "\n",
    "        # Calculate Krippendorff's alpha\n",
    "        results[\"ordinal\"] = alpha(reliability_data=kripp_data, level_of_measurement='ordinal')\n",
    "        results[\"nominal\"] = alpha(reliability_data=kripp_data, level_of_measurement='nominal')\n",
    "    except Exception as e:\n",
    "        results[\"error\"] = str(e)\n",
    "\n",
    "    return results\n",
    "\n",
    "\n",
    "df = pd.read_csv('../data/articles.csv')\n",
    "annotator_columns = ['expert_annotator_1', 'expert_annotator_2', 'student_annotator_1', 'student_annotator_2']\n",
    "df = df[df['id'].isin(final_annotation_round_set)]\n",
    "\n",
    "\n",
    "results = calculate_krippendorff_alpha_from_dataframe(df, annotator_columns)\n",
    "\n",
    "if \"error\" in results:\n",
    "    print(f\"Error calculating Krippendorff's alpha: {results['error']}\")\n",
    "else:\n",
    "    print(f\"Krippendorff's Alpha (ordinal): {results['ordinal']:.3f}\")\n",
    "    print(f\"Krippendorff's Alpha (nominal): {results['nominal']:.3f}\")"
   ]
  }
 ],
 "metadata": {
  "kernelspec": {
   "display_name": "myenv",
   "language": "python",
   "name": "python3"
  },
  "language_info": {
   "codemirror_mode": {
    "name": "ipython",
    "version": 3
   },
   "file_extension": ".py",
   "mimetype": "text/x-python",
   "name": "python",
   "nbconvert_exporter": "python",
   "pygments_lexer": "ipython3",
   "version": "3.12.3"
  }
 },
 "nbformat": 4,
 "nbformat_minor": 2
}
