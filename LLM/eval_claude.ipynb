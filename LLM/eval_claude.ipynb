{
 "cells": [
  {
   "cell_type": "code",
   "execution_count": null,
   "id": "4e52f1f2",
   "metadata": {},
   "outputs": [],
   "source": [
    "%load_ext autoreload\n",
    "%autoreload 2\n",
    "\n",
    "\n",
    "from src import functions_claude2"
   ]
  },
  {
   "cell_type": "code",
   "execution_count": null,
   "id": "b0872111",
   "metadata": {},
   "outputs": [],
   "source": [
    "input_file2 = 'batches/claude/batch_2025-05-10--011952.json'\n",
    "output_file2 = 'batches/claude-finished/zero_shot_nonanno.jsonl'\n",
    "\n",
    "results = functions_claude2.results_from_file(input_file2, output_file2)"
   ]
  },
  {
   "cell_type": "code",
   "execution_count": null,
   "id": "ee69a5c2",
   "metadata": {},
   "outputs": [],
   "source": [
    "input_file3 = 'batches/claude/batch_2025-05-10--172326.json'\n",
    "output_file3 = 'batches/claude-finished/zero_shot_last-four.jsonl'\n",
    "\n",
    "results = results + functions_claude2.results_from_file(input_file3, output_file3)"
   ]
  },
  {
   "cell_type": "code",
   "execution_count": null,
   "id": "1b7e9643",
   "metadata": {},
   "outputs": [],
   "source": [
    "input_file = 'batches/claude/batch_2025-05-06--001511.json'\n",
    "output_file = 'batches/claude-finished/zero_shot_explained.jsonl'\n",
    "results = results + functions_claude2.results_from_file(input_file, output_file)\n",
    "\n",
    "gold_labels = [\n",
    "    entry.get('gold_label', '3_kein_thema') for entry in results\n",
    "]\n",
    "predictions = [\n",
    "    entry['output']['result']['message']['content'][0]['input']['topic_ai'] for entry in results\n",
    "]\n",
    "\n",
    "from sklearn.metrics import classification_report\n",
    "\n",
    "print(classification_report(gold_labels, predictions, zero_division=0, digits=4))"
   ]
  },
  {
   "cell_type": "code",
   "execution_count": null,
   "id": "566fe7a8",
   "metadata": {},
   "outputs": [],
   "source": [
    "len(results)"
   ]
  },
  {
   "cell_type": "code",
   "execution_count": null,
   "id": "e6d9bfdc",
   "metadata": {},
   "outputs": [],
   "source": [
    "def get_io_tokens(output):\n",
    "    usage = output['result']['message']['usage']\n",
    "    input_tokens = usage['input_tokens']\n",
    "    output_tokens = usage['output_tokens']\n",
    "\n",
    "    return input_tokens, output_tokens\n",
    "\n",
    "\n",
    "tokens = [\n",
    "    get_io_tokens(entry['output']) for entry in results\n",
    "]\n",
    "\n",
    "\n",
    "cost = functions_claude2.PricingSonnet\n",
    "input_cost = sum([x[0] for x in tokens]) * cost.input_tokens_batch\n",
    "output_cost = sum([x[1] for x in tokens]) * cost.output_tokens_batch\n",
    "total_cost = input_cost + output_cost\n",
    "print(f\"Total cost: {total_cost:.2f} EUR\")\n"
   ]
  },
  {
   "cell_type": "code",
   "execution_count": null,
   "id": "51f60861",
   "metadata": {},
   "outputs": [],
   "source": [
    "len(results)"
   ]
  },
  {
   "cell_type": "code",
   "execution_count": null,
   "id": "e5e1486d",
   "metadata": {},
   "outputs": [],
   "source": [
    "import json\n",
    "from pathlib import Path\n",
    "from collections import defaultdict\n",
    "\n",
    "corpus_dict = {}\n",
    "url_duplicates = defaultdict(list)\n",
    "results_dict = {\n",
    "    result['url']: result for result in results\n",
    "}\n",
    "\n",
    "def get_label(output):\n",
    "    try:\n",
    "        label = output['result']['message']['content'][0]['input']['topic_ai']\n",
    "    except KeyError:\n",
    "        label = None\n",
    "    return label\n",
    "\n",
    "CORPUSDIR = '/home/brunobrocai/Data/MoWiKo/Paper-themKorp-2/final_corpus'\n",
    "\n",
    "# First pass: identify duplicates\n",
    "for file in Path(CORPUSDIR).glob('*.json'):\n",
    "    with open(file, 'r', encoding='utf-8') as f:\n",
    "        data = json.load(f)\n",
    "    url = data['url']\n",
    "    url_duplicates[url].append(str(file))\n",
    "\n",
    "    # Still store in corpus_dict, but now we're aware of duplicates\n",
    "    if url not in corpus_dict:\n",
    "        corpus_dict[url] = data\n",
    "        corpus_dict[url]['filepath'] = str(file)\n",
    "\n",
    "# Write Claude labels to corpus\n",
    "for url, result in results_dict.items():\n",
    "    label = get_label(result['output'])\n",
    "\n",
    "    # Handle duplicates if they exist\n",
    "    if url in url_duplicates and len(url_duplicates[url]) > 1:\n",
    "        print(f\"Found {len(url_duplicates[url])} duplicates for URL: {url}\")\n",
    "        for filepath in url_duplicates[url]:\n",
    "            with open(filepath, 'r', encoding='utf-8') as f:\n",
    "                data = json.load(f)\n",
    "            data['Claude_0shot'] = label\n",
    "            with open(filepath, 'w', encoding='utf-8') as f:\n",
    "                json.dump(data, f, ensure_ascii=False, indent=4)\n",
    "    elif url in corpus_dict:\n",
    "        with open(corpus_dict[url]['filepath'], 'r', encoding='utf-8') as f:\n",
    "            data = json.load(f)\n",
    "        data['Claude_0shot'] = label\n",
    "        with open(corpus_dict[url]['filepath'], 'w', encoding='utf-8') as f:\n",
    "            json.dump(data, f, ensure_ascii=False, indent=4)"
   ]
  },
  {
   "cell_type": "code",
   "execution_count": null,
   "id": "31f73218",
   "metadata": {},
   "outputs": [],
   "source": [
    "# Write claude labels to corpus\n",
    "for url, result in results_dict.items():\n",
    "    if url in corpus_dict:\n",
    "        with open(corpus_dict[url]['filepath'], 'r', encoding='utf-8') as f:\n",
    "            data = json.load(f)\n",
    "        data['Claude_0shot'] = get_label(result['output'])\n",
    "        with open(corpus_dict[url]['filepath'], 'w', encoding='utf-8') as f:\n",
    "            json.dump(data, f, ensure_ascii=False, indent=4)"
   ]
  }
 ],
 "metadata": {
  "kernelspec": {
   "display_name": "myenv",
   "language": "python",
   "name": "python3"
  },
  "language_info": {
   "codemirror_mode": {
    "name": "ipython",
    "version": 3
   },
   "file_extension": ".py",
   "mimetype": "text/x-python",
   "name": "python",
   "nbconvert_exporter": "python",
   "pygments_lexer": "ipython3",
   "version": "3.12.3"
  }
 },
 "nbformat": 4,
 "nbformat_minor": 5
}
