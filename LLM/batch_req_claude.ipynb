{
 "cells": [
  {
   "cell_type": "markdown",
   "metadata": {},
   "source": [
    "# Prompt Claude with Batching\n",
    "\n",
    "This notebook is for prompting claude with a batch of inputs. It takes up to 24h for the results to come in."
   ]
  },
  {
   "cell_type": "markdown",
   "metadata": {},
   "source": [
    "This first cell is setup and should always be executed."
   ]
  },
  {
   "cell_type": "code",
   "execution_count": 2,
   "metadata": {},
   "outputs": [
    {
     "name": "stdout",
     "output_type": "stream",
     "text": [
      "The autoreload extension is already loaded. To reload it, use:\n",
      "  %reload_ext autoreload\n"
     ]
    }
   ],
   "source": [
    "%load_ext autoreload\n",
    "%autoreload 2\n",
    "\n",
    "import anthropic\n",
    "from dotenv import load_dotenv\n",
    "import os\n",
    "import datetime\n",
    "import json\n",
    "from pathlib import Path\n",
    "from src import objects, functions_claude2, metadata\n",
    "from setup import output_struct\n",
    "\n",
    "load_dotenv()\n",
    "api_key = os.getenv(\"API_KEY_CLAUDE\")\n",
    "client = anthropic.Anthropic(api_key=api_key)"
   ]
  },
  {
   "cell_type": "markdown",
   "metadata": {},
   "source": [
    "Load the data used to evaluate the model."
   ]
  },
  {
   "cell_type": "markdown",
   "metadata": {},
   "source": [
    "Load the prompt."
   ]
  },
  {
   "cell_type": "code",
   "execution_count": null,
   "metadata": {},
   "outputs": [],
   "source": [
    "data_dir = Path('/home/brunobrocai/Data/MoWiKo/Paper-themKorp-2/final_corpus')\n",
    "data = []\n",
    "for file in data_dir.glob('*.json'):\n",
    "    with open(file, 'r', encoding='utf-8') as f:\n",
    "        data.append(json.load(f))\n",
    "\n",
    "data = [d for d in data if d.get('Claude_0shot', None) is None]\n",
    "len(data)"
   ]
  },
  {
   "cell_type": "code",
   "execution_count": 6,
   "metadata": {},
   "outputs": [],
   "source": [
    "# SETUP SETTINGS\n",
    "prompt_name = 'zero_shot'\n",
    "prompt_file = 'setup/prompts.yaml'\n",
    "\n",
    "output_format = output_struct.TextClassification\n",
    "\n",
    "temperature = 0.0\n",
    "\n",
    "model = 'claude-3-7-sonnet-20250219'"
   ]
  },
  {
   "cell_type": "code",
   "execution_count": 7,
   "metadata": {},
   "outputs": [],
   "source": [
    "prompt = objects.SysUserPrompt()\n",
    "prompt.load_from_file(\n",
    "    prompt_file,\n",
    "    prompt_name,\n",
    ")"
   ]
  },
  {
   "cell_type": "code",
   "execution_count": null,
   "metadata": {},
   "outputs": [],
   "source": [
    "# cost calculation\n",
    "import tiktoken\n",
    "\n",
    "text_count = len(data)\n",
    "full_text = ''\n",
    "for entry in data:\n",
    "    full_text += entry['text_deduped'] + '\\n'\n",
    "\n",
    "# Make sure it is a validly encoded string\n",
    "full_text = full_text.encode('utf-8', errors='ignore').decode('utf-8', errors='ignore')\n",
    "\n",
    "enc = tiktoken.encoding_for_model(\"gpt-4o\")\n",
    "decoded = enc.encode(full_text)\n",
    "tokens = len(decoded)\n",
    "\n",
    "cost = functions_claude2.PricingSonnet.input_tokens_batch * tokens\n",
    "cost = cost + len(enc.encode(prompt.get_sysprompt())) * text_count * functions_claude2.PricingSonnet.input_tokens_batch\n",
    "cost = cost + len(enc.encode(prompt.get_userprompt(''))) * text_count * functions_claude2.PricingSonnet.input_tokens_batch\n",
    "cost"
   ]
  },
  {
   "cell_type": "markdown",
   "metadata": {},
   "source": [
    "Create the prompt batch and submit it."
   ]
  },
  {
   "cell_type": "code",
   "execution_count": null,
   "metadata": {},
   "outputs": [],
   "source": [
    "run_metadata = metadata.RunMetadata(\n",
    "    run_id=datetime.datetime.now().strftime(\"%Y%m%d%H%M%S\"),\n",
    "    model=model,\n",
    "    time=datetime.datetime.now().strftime(\"%Y-%m-%d %H:%M:%S\"),\n",
    "    prompt_name=prompt_name,\n",
    "    prompt=str(prompt),\n",
    "    output_format=output_format['name'],\n",
    "    dataset='final',\n",
    "    seed=0,\n",
    "    temperature=temperature,\n",
    ")\n",
    "batch_filedir = 'batches/claude'\n",
    "batch = functions_claude2.batch_requests(\n",
    "    data, prompt, client, output_format,\n",
    "    batch_filedir=batch_filedir,\n",
    "    run_info=run_metadata,\n",
    "    tool_coice={'type': 'tool', 'name': output_format['name']},\n",
    "    # drop_instances=already_seen,\n",
    "    temperature=temperature,\n",
    "    model=model,\n",
    ")"
   ]
  },
  {
   "cell_type": "markdown",
   "metadata": {},
   "source": [
    "Now, WAIT...\n",
    "\n",
    "After at most 24h, your responses should be ready. Check in the online console and download manually, and process with 'eval_claude'."
   ]
  }
 ],
 "metadata": {
  "kernelspec": {
   "display_name": "myenv",
   "language": "python",
   "name": "python3"
  },
  "language_info": {
   "codemirror_mode": {
    "name": "ipython",
    "version": 3
   },
   "file_extension": ".py",
   "mimetype": "text/x-python",
   "name": "python",
   "nbconvert_exporter": "python",
   "pygments_lexer": "ipython3",
   "version": "3.12.3"
  }
 },
 "nbformat": 4,
 "nbformat_minor": 2
}
