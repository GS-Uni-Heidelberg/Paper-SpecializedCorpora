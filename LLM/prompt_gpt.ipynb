{
 "cells": [
  {
   "cell_type": "code",
   "execution_count": null,
   "id": "1e666cd4",
   "metadata": {},
   "outputs": [],
   "source": [
    "%load_ext autoreload\n",
    "%autoreload 2\n",
    "\n",
    "\n",
    "from pathlib import Path\n",
    "import json\n",
    "import random\n",
    "import os\n",
    "from src import functions_openai2, metadata, objects\n",
    "from setup import output_struct\n",
    "import datetime\n",
    "\n",
    "\n",
    "client = functions_openai2.get_openai_client()"
   ]
  },
  {
   "cell_type": "code",
   "execution_count": null,
   "id": "056ecc35",
   "metadata": {},
   "outputs": [],
   "source": [
    "with open('or_bt1_t1_data.json', 'r') as f:\n",
    "    data = json.load(f)"
   ]
  },
  {
   "cell_type": "code",
   "execution_count": null,
   "id": "ce9bf498",
   "metadata": {},
   "outputs": [],
   "source": [
    "# SETUP SETTINGS\n",
    "prompt_name = 'zero_shot'\n",
    "prompt_file = 'setup/prompts.yaml'\n",
    "\n",
    "output_structure = output_struct.TopicAI\n",
    "\n",
    "llm_seed = 42\n",
    "temperature = 0.0\n",
    "\n",
    "model = 'gpt-4o-2024-08-06'"
   ]
  },
  {
   "cell_type": "code",
   "execution_count": null,
   "id": "187dfd5a",
   "metadata": {},
   "outputs": [],
   "source": [
    "prompt = objects.SysUserPrompt()\n",
    "prompt.load_from_file(prompt_file, prompt_name)\n"
   ]
  },
  {
   "cell_type": "code",
   "execution_count": null,
   "id": "3d651ae3",
   "metadata": {},
   "outputs": [],
   "source": [
    "result =functions_openai2.loop_prompt(\n",
    "    data,\n",
    "    prompt,\n",
    "    client=client,\n",
    "    response_format=output_structure,\n",
    "    seed=llm_seed,\n",
    "    temperature=temperature,\n",
    "    model=model,\n",
    ")\n"
   ]
  },
  {
   "cell_type": "code",
   "execution_count": null,
   "id": "f7be31e6",
   "metadata": {},
   "outputs": [],
   "source": [
    "gold, pred = functions_openai2.gold_prediction_lists(\n",
    "    result, 'topic_ai'\n",
    ")"
   ]
  },
  {
   "cell_type": "code",
   "execution_count": null,
   "id": "61d8d966",
   "metadata": {},
   "outputs": [],
   "source": [
    "final_corpus_path = Path('/home//.../final_corpus')\n",
    "corpus_files = list(final_corpus_path.glob('*.json'))\n",
    "\n",
    "for res in result:\n",
    "    filestem = res['filename']\n",
    "    # Find the corresponding corpus file\n",
    "    corpus_file = next((f for f in corpus_files if f.stem == filestem), None)\n",
    "    if corpus_file:\n",
    "        with open(corpus_file, 'r') as f:\n",
    "            document = json.load(f)\n",
    "        document['GPT4o'] = functions_openai2.get_prediction(\n",
    "            res, 'topic_ai'\n",
    "        )\n",
    "        with open(corpus_file, 'w') as f:\n",
    "            json.dump(document, f, indent=4, ensure_ascii=False)"
   ]
  }
 ],
 "metadata": {
  "kernelspec": {
   "display_name": "myenv",
   "language": "python",
   "name": "python3"
  },
  "language_info": {
   "codemirror_mode": {
    "name": "ipython",
    "version": 3
   },
   "file_extension": ".py",
   "mimetype": "text/x-python",
   "name": "python",
   "nbconvert_exporter": "python",
   "pygments_lexer": "ipython3",
   "version": "3.12.3"
  }
 },
 "nbformat": 4,
 "nbformat_minor": 5
}
