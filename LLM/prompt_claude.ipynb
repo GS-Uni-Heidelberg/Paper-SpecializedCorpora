{
 "cells": [
  {
   "cell_type": "code",
   "execution_count": null,
   "id": "3468d53d",
   "metadata": {},
   "outputs": [],
   "source": [
    "%load_ext autoreload\n",
    "%autoreload 2\n",
    "\n",
    "import anthropic\n",
    "from dotenv import load_dotenv\n",
    "import os\n",
    "import yaml\n",
    "\n",
    "load_dotenv()\n",
    "api_key = os.getenv(\"API_KEY_CLAUDE\")\n",
    "client = anthropic.Anthropic(api_key=api_key)"
   ]
  },
  {
   "cell_type": "code",
   "execution_count": null,
   "id": "068c8445",
   "metadata": {},
   "outputs": [],
   "source": [
    "prompt = yaml.safe_load(\n",
    "    open('setup/prompts.yaml')\n",
    ")['regex_query_gen']['prompt']"
   ]
  },
  {
   "cell_type": "code",
   "execution_count": null,
   "id": "42295dec",
   "metadata": {},
   "outputs": [],
   "source": [
    "completion = client.messages.create(\n",
    "            model=\"claude-3-7-sonnet-20250219\",\n",
    "            messages=[\n",
    "                {\n",
    "                    \"role\": \"user\",\n",
    "                    \"content\": [\n",
    "                        {\n",
    "                            \"type\": \"text\",\n",
    "                            \"text\": prompt\n",
    "                        }\n",
    "                    ]\n",
    "                }\n",
    "            ],\n",
    "    max_tokens=16000,\n",
    "    thinking={\n",
    "        \"type\": \"enabled\",\n",
    "        \"budget_tokens\": 10000\n",
    "    },\n",
    ")"
   ]
  },
  {
   "cell_type": "code",
   "execution_count": null,
   "id": "af3b2b39",
   "metadata": {},
   "outputs": [],
   "source": [
    "with open('llm-generated-prompt.txt', 'w') as f:\n",
    "    f.write(str(completion))"
   ]
  },
  {
   "cell_type": "code",
   "execution_count": null,
   "id": "241a0bee",
   "metadata": {},
   "outputs": [],
   "source": [
    "text_blocks = [block for block in completion.content if hasattr(block, 'text')]\n",
    "if text_blocks:\n",
    "    response_text = text_blocks[0].text\n",
    "    print(response_text)"
   ]
  }
 ],
 "metadata": {
  "kernelspec": {
   "display_name": "myenv",
   "language": "python",
   "name": "python3"
  },
  "language_info": {
   "codemirror_mode": {
    "name": "ipython",
    "version": 3
   },
   "file_extension": ".py",
   "mimetype": "text/x-python",
   "name": "python",
   "nbconvert_exporter": "python",
   "pygments_lexer": "ipython3",
   "version": "3.12.3"
  }
 },
 "nbformat": 4,
 "nbformat_minor": 5
}
