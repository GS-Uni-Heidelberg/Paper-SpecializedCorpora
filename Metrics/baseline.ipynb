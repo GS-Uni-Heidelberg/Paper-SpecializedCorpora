{
 "cells": [
  {
   "cell_type": "markdown",
   "id": "bfbb72aa",
   "metadata": {},
   "source": [
    "# Baseline\n",
    "\n",
    "This notebook creates a corpus from our baseline - finding documents with occurrences of 'künstlich' + 'Intelligenz' or 'KI'."
   ]
  },
  {
   "cell_type": "code",
   "execution_count": null,
   "id": "ccd2aab3",
   "metadata": {},
   "outputs": [],
   "source": [
    "# Setup: Import necessary libraries\n",
    "\n",
    "from src.corpus import Corpus\n",
    "from src.corpus_creation import document_retriever as dr\n",
    "from src.load_data import load_files\n",
    "\n",
    "%load_ext autoreload\n",
    "%autoreload 2"
   ]
  },
  {
   "cell_type": "code",
   "execution_count": 2,
   "id": "4b64dfaf",
   "metadata": {},
   "outputs": [],
   "source": [
    "# Put the path to the directory containing the corpus files here\n",
    "CORPUSDIR = '/home//.../final_corpus'\n",
    "\n",
    "docs, metadata = load_files(CORPUSDIR)\n",
    "corpus = Corpus(docs, metadata)"
   ]
  },
  {
   "cell_type": "code",
   "execution_count": 3,
   "id": "ef20f865",
   "metadata": {},
   "outputs": [],
   "source": [
    "wordlist = [('künstlich', 'Intelligenz'), 'KI']"
   ]
  },
  {
   "cell_type": "code",
   "execution_count": 5,
   "id": "0cf1e5ea",
   "metadata": {},
   "outputs": [
    {
     "name": "stdout",
     "output_type": "stream",
     "text": [
      "+++++ MIN == 1 +++++\n",
      "Classification report for main topic:\n",
      "              precision    recall  f1-score   support\n",
      "\n",
      "Not Relevant     0.9992    0.9868    0.9930      6667\n",
      "    Relevant     0.4395    0.9324    0.5974        74\n",
      "\n",
      "    accuracy                         0.9862      6741\n",
      "   macro avg     0.7194    0.9596    0.7952      6741\n",
      "weighted avg     0.9931    0.9862    0.9886      6741\n",
      "\n",
      "\n",
      "Classification report for main and side topic:\n",
      "              precision    recall  f1-score   support\n",
      "\n",
      "Not Relevant     0.9979    0.9915    0.9947      6626\n",
      "    Relevant     0.6433    0.8783    0.7426       115\n",
      "\n",
      "    accuracy                         0.9896      6741\n",
      "   macro avg     0.8206    0.9349    0.8687      6741\n",
      "weighted avg     0.9918    0.9896    0.9904      6741\n",
      "\n",
      "\n",
      "+++++ MIN == 3 +++++\n",
      "Classification report for main topic:\n",
      "              precision    recall  f1-score   support\n",
      "\n",
      "Not Relevant     0.9976    0.9988    0.9982      6667\n",
      "    Relevant     0.8788    0.7838    0.8286        74\n",
      "\n",
      "    accuracy                         0.9964      6741\n",
      "   macro avg     0.9382    0.8913    0.9134      6741\n",
      "weighted avg     0.9963    0.9964    0.9963      6741\n",
      "\n",
      "\n",
      "Classification report for main and side topic:\n",
      "              precision    recall  f1-score   support\n",
      "\n",
      "Not Relevant     0.9925    0.9998    0.9962      6626\n",
      "    Relevant     0.9848    0.5652    0.7182       115\n",
      "\n",
      "    accuracy                         0.9924      6741\n",
      "   macro avg     0.9887    0.7825    0.8572      6741\n",
      "weighted avg     0.9924    0.9924    0.9914      6741\n",
      "\n",
      "\n",
      "+++++ MIN == 5 +++++\n",
      "Classification report for main topic:\n",
      "              precision    recall  f1-score   support\n",
      "\n",
      "Not Relevant     0.9942    0.9997    0.9969      6667\n",
      "    Relevant     0.9459    0.4730    0.6306        74\n",
      "\n",
      "    accuracy                         0.9939      6741\n",
      "   macro avg     0.9701    0.7363    0.8138      6741\n",
      "weighted avg     0.9937    0.9939    0.9929      6741\n",
      "\n",
      "\n",
      "Classification report for main and side topic:\n",
      "              precision    recall  f1-score   support\n",
      "\n",
      "Not Relevant     0.9884    1.0000    0.9941      6626\n",
      "    Relevant     1.0000    0.3217    0.4868       115\n",
      "\n",
      "    accuracy                         0.9884      6741\n",
      "   macro avg     0.9942    0.6609    0.7405      6741\n",
      "weighted avg     0.9886    0.9884    0.9855      6741\n",
      "\n",
      "\n"
     ]
    }
   ],
   "source": [
    "min_to_try = [1, 3, 5]\n",
    "for n in min_to_try:\n",
    "    print(f\"+++++ MIN == {n} +++++\")\n",
    "    hits = dr.match_wordlist(\n",
    "        corpus,\n",
    "        wordlist=wordlist,\n",
    "        min=n,\n",
    "        unique=False,\n",
    "    )\n",
    "    _ = dr.eval_retrieval(\n",
    "        corpus,\n",
    "        hits,\n",
    "        annotator='gold_label',\n",
    "        mode='pooling'\n",
    "    )\n",
    "    print()\n",
    "\n"
   ]
  }
 ],
 "metadata": {
  "kernelspec": {
   "display_name": "myenv",
   "language": "python",
   "name": "python3"
  },
  "language_info": {
   "codemirror_mode": {
    "name": "ipython",
    "version": 3
   },
   "file_extension": ".py",
   "mimetype": "text/x-python",
   "name": "python",
   "nbconvert_exporter": "python",
   "pygments_lexer": "ipython3",
   "version": "3.12.3"
  }
 },
 "nbformat": 4,
 "nbformat_minor": 5
}
