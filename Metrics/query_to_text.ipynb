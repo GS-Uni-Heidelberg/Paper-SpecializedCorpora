{
 "cells": [
  {
   "cell_type": "code",
   "execution_count": 2,
   "id": "ecd834ea",
   "metadata": {},
   "outputs": [],
   "source": [
    "import src.corpus_creation.handle_wordlists as hw\n",
    "\n",
    "\n",
    "%load_ext autoreload\n",
    "%autoreload 2"
   ]
  },
  {
   "cell_type": "code",
   "execution_count": 8,
   "id": "11aa3977",
   "metadata": {},
   "outputs": [
    {
     "name": "stdout",
     "output_type": "stream",
     "text": [
      "Gemini \\textbar{} Datenmeng \\textbar{} AI \\textbar{} disruptiv \\textbar{} intrinsisch \\textbar{} abgekürzt \\textbar{} Techkonzern \\textbar{} nachbilden \\textbar{} KI-System \\textbar{} KI-Forscher \\textbar{} Nachvollziehbarkeit \\textbar{} KI-Gipfel \\textbar{} akzeptiert \\textbar{} KI-Anwendung \\textbar{} ChatGPT \\textbar{} OpenAI \\textbar{} KI-Programm \\textbar{} OpenAI-Chef \\textbar{} Tarnung \\textbar{} keimen \\textbar{} Potential \\textbar{} Pessimismus \\textbar{} Expertenwissen \\textbar{} Anfangszeit \\textbar{} verlernen \\textbar{} KI-Funktion \\textbar{} generativ \\textbar{} erreicht \\textbar{} Automatisierte \\textbar{} Nachverfolgung \\textbar{} Nvidia \\textbar{} Software-Entwicklung \\textbar{} ungeahnt \\textbar{} Bildgenerator \\textbar{} generiert \\textbar{} s. \\textbar{} selbstfahrend \\textbar{} Illustration \\textbar{} Doktorande \\textbar{} Altman \\textbar{} krönen \\textbar{} Chatbot \\textbar{} KI-Chatbot \\textbar{} KI-Modelle \\textbar{} Deep \\textbar{} zurücklehnen \\textbar{} Engineering \\textbar{} Softwarekonzern \\textbar{} Rechenleistung \\textbar{} KI-Entwicklung \\textbar{} künstlich Intelligenz \\textbar{} KI\n"
     ]
    }
   ],
   "source": [
    "listy = hw.read_wordlist('wordlists/queries/coll-Absatz-npmi.txt')\n",
    "print(hw.query_string(listy, sep='\\\\textbar{}'))"
   ]
  }
 ],
 "metadata": {
  "kernelspec": {
   "display_name": "myenv",
   "language": "python",
   "name": "python3"
  },
  "language_info": {
   "codemirror_mode": {
    "name": "ipython",
    "version": 3
   },
   "file_extension": ".py",
   "mimetype": "text/x-python",
   "name": "python",
   "nbconvert_exporter": "python",
   "pygments_lexer": "ipython3",
   "version": "3.12.3"
  }
 },
 "nbformat": 4,
 "nbformat_minor": 5
}
