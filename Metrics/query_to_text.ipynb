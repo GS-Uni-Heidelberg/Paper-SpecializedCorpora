{
 "cells": [
  {
   "cell_type": "code",
   "execution_count": null,
   "id": "ecd834ea",
   "metadata": {},
   "outputs": [],
   "source": [
    "import ast\n",
    "import json\n",
    "\n",
    "from src.corpus_creation import document_retriever as dr\n",
    "from src.load_data import load_files\n",
    "from src.corpus import Corpus\n",
    "from src.misc import custom_queries\n",
    "import re\n",
    "\n",
    "\n",
    "%load_ext autoreload\n",
    "%autoreload 2"
   ]
  },
  {
   "cell_type": "code",
   "execution_count": null,
   "id": "11aa3977",
   "metadata": {},
   "outputs": [],
   "source": [
    "with open('wordlists/queries/LLM-Regex.txt', 'r') as f:\n",
    "    queries = f.readlines()\n",
    "\n",
    "query = [ast.literal_eval(q) if q.startswith('(') and q.endswith(')\\n') else q.strip() for q in queries]"
   ]
  },
  {
   "cell_type": "code",
   "execution_count": null,
   "id": "e315161c",
   "metadata": {},
   "outputs": [],
   "source": [
    "def format_query(query):\n",
    "    strings = []\n",
    "    for q in query:\n",
    "        if isinstance(q, tuple):\n",
    "            strings.append(' '.join(q))\n",
    "        elif isinstance(q, str):\n",
    "            strings.append(q)\n",
    "    return ' | '.join(strings)\n",
    "\n",
    "print(format_query(query))"
   ]
  }
 ],
 "metadata": {
  "kernelspec": {
   "display_name": "myenv",
   "language": "python",
   "name": "python3"
  },
  "language_info": {
   "codemirror_mode": {
    "name": "ipython",
    "version": 3
   },
   "file_extension": ".py",
   "mimetype": "text/x-python",
   "name": "python",
   "nbconvert_exporter": "python",
   "pygments_lexer": "ipython3",
   "version": "3.12.3"
  }
 },
 "nbformat": 4,
 "nbformat_minor": 5
}
