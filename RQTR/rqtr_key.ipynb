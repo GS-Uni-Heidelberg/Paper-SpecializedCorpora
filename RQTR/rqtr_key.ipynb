{
 "cells": [
  {
   "cell_type": "code",
   "execution_count": null,
   "id": "e575de43",
   "metadata": {},
   "outputs": [],
   "source": [
    "from src.corpus import Corpus, FrequencyCorpus\n",
    "from src.metrics import keyness\n",
    "from src.corpus_creation import document_retriever as dr\n",
    "import pathlib\n",
    "import json\n",
    "import pandas as pd\n",
    "import random\n",
    "from src.load_data import load_files, load_reference_sample\n",
    "\n",
    "%load_ext autoreload\n",
    "%autoreload 2"
   ]
  },
  {
   "cell_type": "code",
   "execution_count": null,
   "id": "d4c1a5c2",
   "metadata": {},
   "outputs": [],
   "source": [
    "# Put the path to the directory containing the corpus files here\n",
    "CORPUSDIR = '/home/brunobrocai/Data/MoWiKo/Paper-themKorp/full'\n",
    "REFERENCE_CORPUS = '/home/brunobrocai/Data/Reference/Leipzig-Corpora/reference_corpus_20-25.json'\n",
    "\n",
    "docs, metadata = load_files(CORPUSDIR)\n",
    "corpus = Corpus(docs, metadata)\n",
    "\n",
    "reference_docs = load_reference_sample(REFERENCE_CORPUS)\n",
    "reference_corpus = FrequencyCorpus(reference_docs)"
   ]
  },
  {
   "cell_type": "code",
   "execution_count": null,
   "id": "5d843221",
   "metadata": {},
   "outputs": [],
   "source": [
    "SEARCH_TERMS = ['KI', ('künstlich', 'Intelligenz')]\n",
    "\n",
    "# Find the documents that contain the search terms (at least min times)\n",
    "hits = dr.match_wordlist(\n",
    "    corpus, SEARCH_TERMS, min=1\n",
    ")\n",
    "\n",
    "# Load the found documents into a new corpus\n",
    "study_corpus = dr.corpus_from_found(\n",
    "    hits, source_corpus=corpus,\n",
    "    goal_corpus=FrequencyCorpus\n",
    ")"
   ]
  },
  {
   "cell_type": "code",
   "execution_count": null,
   "id": "82670108",
   "metadata": {},
   "outputs": [],
   "source": [
    "# create a keyword list for ngrams of length 1 and 2\n",
    "\n",
    "keynesses = keyness.keyword_list(\n",
    "    study_corpus, reference_corpus,\n",
    "    metric='percent_difference',\n",
    "    min_docs=3,\n",
    "    smoothing=0.5,\n",
    "    max_ngram_len=2,\n",
    "    filter_stopwords=True,\n",
    ")"
   ]
  },
  {
   "cell_type": "code",
   "execution_count": null,
   "id": "e41ebddb",
   "metadata": {},
   "outputs": [],
   "source": [
    "from copy import deepcopy\n",
    "\n",
    "corpus_copy = deepcopy(corpus)\n",
    "\n",
    "# Treating 'künstlich Intelligenz' as one token\n",
    "corpus.treat_as_one(['künstlich', 'Intelligenz'], 'künstlich_Intelligenz')\n",
    "\n",
    "# Picking base terms\n",
    "base_terms = ('künstlich_Intelligenz', 'KI')"
   ]
  },
  {
   "cell_type": "code",
   "execution_count": null,
   "id": "dc0fcd6c",
   "metadata": {},
   "outputs": [],
   "source": [
    "from src.metrics import rqtr_lemma\n",
    "\n",
    "b, core_term =rqtr_lemma.qtr_baseline(\n",
    "    base_terms[0], base_terms[1], corpus\n",
    ")"
   ]
  },
  {
   "cell_type": "code",
   "execution_count": null,
   "id": "6aa5523f",
   "metadata": {},
   "outputs": [],
   "source": [
    "values = rqtr_lemma.rqtr_list(\n",
    "    base_terms,\n",
    "    corpus.documents,\n",
    "    min_count=1,\n",
    "    max_ngram_len=2\n",
    ")"
   ]
  },
  {
   "cell_type": "code",
   "execution_count": null,
   "id": "d9c0736f",
   "metadata": {},
   "outputs": [],
   "source": [
    "from src.token_util import contains_alphab_tuple\n",
    "\n",
    "# Sort values by rqtrn\n",
    "sorted_values = sorted(\n",
    "    values,\n",
    "    key=lambda x: x.rqtrn(b),\n",
    "    reverse=True\n",
    ")\n",
    "\n",
    "# Create a pandas dataframe\n",
    "rqtrs = pd.DataFrame(\n",
    "    [\n",
    "        (value.term, value.term_count, value.rqtrn(b))\n",
    "        for value in sorted_values\n",
    "    ],\n",
    "    columns=['Word', 'count', 'rqtrn']\n",
    ")\n",
    "\n",
    "# Keep ony values that contain alphabetic characters\n",
    "rqtrs = rqtrs[rqtrs['Word'].apply(contains_alphab_tuple)]"
   ]
  },
  {
   "cell_type": "code",
   "execution_count": null,
   "id": "b1ea08ac",
   "metadata": {},
   "outputs": [],
   "source": [
    "# Create a new dataframe with both keyness and rqtrn\n",
    "# Use the value / Word ro\n",
    "\n",
    "combined_df = pd.merge(\n",
    "    rqtrs,\n",
    "    keynesses,\n",
    "    on='Word',\n",
    "    how='outer'\n",
    ")"
   ]
  },
  {
   "cell_type": "code",
   "execution_count": null,
   "id": "4ba5c7a5",
   "metadata": {},
   "outputs": [],
   "source": [
    "# drop nan\n",
    "combined_df = combined_df.dropna()\n",
    "combined_df = combined_df[\n",
    "    (combined_df['Keyness'] > 0) &\n",
    "    (combined_df['rqtrn'] > 0)\n",
    "]\n",
    "combined_df"
   ]
  }
 ],
 "metadata": {
  "kernelspec": {
   "display_name": "myenv",
   "language": "python",
   "name": "python3"
  },
  "language_info": {
   "codemirror_mode": {
    "name": "ipython",
    "version": 3
   },
   "file_extension": ".py",
   "mimetype": "text/x-python",
   "name": "python",
   "nbconvert_exporter": "python",
   "pygments_lexer": "ipython3",
   "version": "3.12.3"
  }
 },
 "nbformat": 4,
 "nbformat_minor": 5
}
