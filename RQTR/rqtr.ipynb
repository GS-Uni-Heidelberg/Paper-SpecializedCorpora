{
 "cells": [
  {
   "cell_type": "markdown",
   "metadata": {},
   "source": [
    "# RQTR (for Lemmatized Corpora)\n",
    "\n",
    "With this notebook you can calculate the RQTR(n) values for a lemmatized corpus."
   ]
  },
  {
   "cell_type": "code",
   "execution_count": null,
   "metadata": {},
   "outputs": [],
   "source": [
    "# SETUP\n",
    "\n",
    "from src.corpus import Corpus\n",
    "from src.metrics import rqtr_lemma\n",
    "from src.corpus_creation import document_retriever\n",
    "import pandas as pd\n",
    "from src.load_data import load_files\n",
    "\n",
    "%load_ext autoreload\n",
    "%autoreload 2"
   ]
  },
  {
   "cell_type": "markdown",
   "metadata": {},
   "source": [
    "Loading the data...\n",
    "\n",
    "Put the path to your corpus in the variable `CORPUSDIR`.\n",
    "\n",
    "I assume that the data is a set of json files, each containing a list of lemmata under the key 'lemmas'.\n",
    "If you have a different format, you need to adjust the code accordingly. The result should be a list of lists of lemmata."
   ]
  },
  {
   "cell_type": "code",
   "execution_count": null,
   "metadata": {},
   "outputs": [],
   "source": [
    "# Put the path to the directory containing the corpus files here\n",
    "CORPUSDIR = '/home/brunobrocai/Data/MoWiKo/Paper-themKorp/full'\n",
    "\n",
    "docs, metadata = load_files(CORPUSDIR)\n",
    "corpus = Corpus(docs, metadata)"
   ]
  },
  {
   "cell_type": "markdown",
   "metadata": {},
   "source": [
    "Picking the ANY NUMBER OF (!) base terms for RQTR calculation..."
   ]
  },
  {
   "cell_type": "code",
   "execution_count": null,
   "metadata": {},
   "outputs": [],
   "source": [
    "# Picking base terms\n",
    "base_terms = (('künstlich', 'Intelligenz'), 'KI', 'AI')"
   ]
  },
  {
   "cell_type": "markdown",
   "metadata": {},
   "source": [
    "Here it comes!\n",
    "\n",
    "Let's calculcate baseline QTR values."
   ]
  },
  {
   "cell_type": "code",
   "execution_count": null,
   "metadata": {},
   "outputs": [],
   "source": [
    "b, core_term =rqtr_lemma.qtr_baseline(\n",
    "    base_terms, corpus\n",
    ")"
   ]
  },
  {
   "cell_type": "markdown",
   "metadata": {},
   "source": [
    "Now we can calculate RQTR values for all terms in the corpus -- at least those that cooccur with the base terms at least once."
   ]
  },
  {
   "cell_type": "code",
   "execution_count": null,
   "metadata": {},
   "outputs": [],
   "source": [
    "cooccurence_values = rqtr_lemma.count_cooccurence(\n",
    "    base_terms,\n",
    "    corpus,\n",
    "    max_ngram_len=1,\n",
    ")"
   ]
  },
  {
   "cell_type": "markdown",
   "metadata": {},
   "source": [
    "The function we just used returns a dictionary with the RQTR values for all terms in the corpus. We can now perform some Pandas DataFrame magic to get a nice overview of the results."
   ]
  },
  {
   "cell_type": "code",
   "execution_count": null,
   "metadata": {},
   "outputs": [],
   "source": [
    "rqtrn_table = rqtr_lemma.cooccurence_to_metric(\n",
    "    cooccurence_values,\n",
    "    b,\n",
    "    metric='rqtrn'\n",
    ")\n",
    "rqtrn_table"
   ]
  },
  {
   "cell_type": "code",
   "execution_count": null,
   "metadata": {},
   "outputs": [],
   "source": [
    "# Get the values with RQTRN > 40\n",
    "filtered_df = rqtrn_table[(rqtrn_table['RQTRN'] > 40)]\n",
    "# Remove the values with RQTRN == 100 because they are not useful\n",
    "filtered_df = filtered_df[(filtered_df['RQTRN'] < 100)]\n",
    "\n",
    "filtered_df"
   ]
  },
  {
   "cell_type": "markdown",
   "metadata": {},
   "source": [
    "## Part 2: Corpus Creation\n",
    "Now we can retrieve documents based on the wordlist we created with the RQTR method."
   ]
  },
  {
   "cell_type": "code",
   "execution_count": null,
   "metadata": {},
   "outputs": [],
   "source": [
    "from src.corpus_creation import document_retriever as dr\n",
    "\n",
    "\n",
    "wordlist = filtered_df['Term'].tolist()\n",
    "wordlist.extend(base_terms)\n",
    "hits = dr.match_wordlist(corpus, wordlist, min=1)"
   ]
  },
  {
   "cell_type": "markdown",
   "metadata": {},
   "source": [
    "We can create new annotation files with the prepare_annotations() function below.\n",
    "Pass a key such as 'wird_annotiert' as annotator to skip annotations that are already present in the file (or, in the case of 'wird_annotiert', will soon be annotated)."
   ]
  },
  {
   "cell_type": "code",
   "execution_count": null,
   "metadata": {},
   "outputs": [],
   "source": [
    "dr.prepare_annotations(\n",
    "    corpus,\n",
    "    hits,\n",
    "    annotator='wird_annotiert',  # Die müssen wir nicht nochmal annotieren\n",
    "    goalpath='test_prep_anno'\n",
    ")"
   ]
  }
 ],
 "metadata": {
  "kernelspec": {
   "display_name": "myenv",
   "language": "python",
   "name": "python3"
  },
  "language_info": {
   "codemirror_mode": {
    "name": "ipython",
    "version": 3
   },
   "file_extension": ".py",
   "mimetype": "text/x-python",
   "name": "python",
   "nbconvert_exporter": "python",
   "pygments_lexer": "ipython3",
   "version": "3.12.3"
  }
 },
 "nbformat": 4,
 "nbformat_minor": 2
}
