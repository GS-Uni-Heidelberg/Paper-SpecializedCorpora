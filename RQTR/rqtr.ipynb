{
 "cells": [
  {
   "cell_type": "markdown",
   "metadata": {},
   "source": [
    "# RQTR (for Lemmatized Corpora)\n",
    "\n",
    "With this notebook you can calculate the RQTR(n) values for a lemmatized corpus."
   ]
  },
  {
   "cell_type": "code",
   "execution_count": null,
   "metadata": {},
   "outputs": [],
   "source": [
    "# SETUP\n",
    "\n",
    "from src.corpus import Corpus\n",
    "from src.metrics import rqtr_lemma\n",
    "import pathlib\n",
    "import pandas as pd\n",
    "import json\n",
    "\n",
    "%load_ext autoreload\n",
    "%autoreload 2"
   ]
  },
  {
   "cell_type": "markdown",
   "metadata": {},
   "source": [
    "Loading the data...\n",
    "\n",
    "Put the path to your corpus in the variable `CORPUSDIR`.\n",
    "\n",
    "I assume that the data is a set of json files, each containing a list of lemmata under the key 'lemmas'.\n",
    "If you have a different format, you need to adjust the code accordingly. The result should be a list of lists of lemmata."
   ]
  },
  {
   "cell_type": "code",
   "execution_count": 21,
   "metadata": {},
   "outputs": [],
   "source": [
    "# Put the path to the directory containing the corpus files here\n",
    "CORPUSDIR = '/home/brunobrocai/Data/MoWiKo/Paper-themKorp/full'\n",
    "\n",
    "files = pathlib.Path(CORPUSDIR).iterdir()\n",
    "data = []\n",
    "for file in files:\n",
    "    with open(file, 'r') as f:\n",
    "        doc = json.load(f)\n",
    "        data.append(doc['lemmas'])\n",
    "corpus = Corpus(data)"
   ]
  },
  {
   "cell_type": "markdown",
   "metadata": {},
   "source": [
    "Picking the two base terms for RQTR calculation...\n",
    "\n",
    "You might want to use n-grams instead of single words. If so, you have to treat them as one word. The corpus object has a method `treat_as_one()` with which you can achieve this."
   ]
  },
  {
   "cell_type": "code",
   "execution_count": null,
   "metadata": {},
   "outputs": [],
   "source": [
    "# Treating 'künstlich Intelligenz' as one token\n",
    "corpus.treat_as_one(['künstlich', 'Intelligenz'], 'künstlich_Intelligenz')\n",
    "\n",
    "# Picking base terms\n",
    "base_terms = ('künstlich_Intelligenz', 'KI')"
   ]
  },
  {
   "cell_type": "markdown",
   "metadata": {},
   "source": [
    "Here it comes!\n",
    "\n",
    "Let's calculcate baseline QTR values."
   ]
  },
  {
   "cell_type": "code",
   "execution_count": null,
   "metadata": {},
   "outputs": [],
   "source": [
    "b, core_term =rqtr_lemma.qtr_baseline(\n",
    "    base_terms[0], base_terms[1], corpus\n",
    ")"
   ]
  },
  {
   "cell_type": "markdown",
   "metadata": {},
   "source": [
    "Now we can calculate RQTR values for all terms in the corpus -- at least those that cooccur with the base terms at least once."
   ]
  },
  {
   "cell_type": "code",
   "execution_count": null,
   "metadata": {},
   "outputs": [],
   "source": [
    "values = rqtr_lemma.get_all_ngrams(\n",
    "    base_terms,\n",
    "    b,\n",
    "    corpus.documents,\n",
    "    min_count=1,\n",
    "    n=1,\n",
    ")"
   ]
  },
  {
   "cell_type": "markdown",
   "metadata": {},
   "source": [
    "The function we just used returns a dictionary with the RQTR values for all terms in the corpus. We can now perform some Pandas DataFrame magic to get a nice overview of the results."
   ]
  },
  {
   "cell_type": "code",
   "execution_count": null,
   "metadata": {},
   "outputs": [],
   "source": [
    "# Sort values by rqtrn\n",
    "sorted_values = sorted(\n",
    "    values,\n",
    "    key=lambda x: x.rqtrn(b),\n",
    "    reverse=True\n",
    ")\n",
    "\n",
    "def tuple_to_string(t):\n",
    "    return ' '.join(t)\n",
    "\n",
    "# Create a pandas dataframe\n",
    "df = pd.DataFrame(\n",
    "    [\n",
    "        (tuple_to_string(value.term), value.term_count, value.rqtrn(b))\n",
    "        for value in sorted_values\n",
    "    ],\n",
    "    columns=['value', 'count', 'rqtrn']\n",
    ")\n",
    "\n",
    "# Keep ony values that contain alphabetic characters\n",
    "df = df[df['value'].str.contains('[a-zA-ZÜüÖöÄäß]')]"
   ]
  },
  {
   "cell_type": "code",
   "execution_count": null,
   "metadata": {},
   "outputs": [],
   "source": [
    "# Get the values with RQTRN > 40\n",
    "filtered_df = df[(df['rqtrn'] > 40)]\n",
    "# Get the values with count > 3\n",
    "filtered_df = filtered_df[filtered_df['count'] > 3]\n",
    "\n",
    "print(filtered_df)"
   ]
  }
 ],
 "metadata": {
  "kernelspec": {
   "display_name": "myenv",
   "language": "python",
   "name": "python3"
  },
  "language_info": {
   "codemirror_mode": {
    "name": "ipython",
    "version": 3
   },
   "file_extension": ".py",
   "mimetype": "text/x-python",
   "name": "python",
   "nbconvert_exporter": "python",
   "pygments_lexer": "ipython3",
   "version": "3.12.3"
  }
 },
 "nbformat": 4,
 "nbformat_minor": 2
}
