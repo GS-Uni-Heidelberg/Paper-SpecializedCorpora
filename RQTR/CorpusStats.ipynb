{
 "cells": [
  {
   "cell_type": "code",
   "execution_count": 1,
   "id": "eb284e53",
   "metadata": {},
   "outputs": [],
   "source": [
    "from src.corpus import Corpus\n",
    "import pandas as pd\n",
    "from src.load_data import load_files\n",
    "\n",
    "%load_ext autoreload\n",
    "%autoreload 2"
   ]
  },
  {
   "cell_type": "code",
   "execution_count": 2,
   "id": "aca300ba",
   "metadata": {},
   "outputs": [],
   "source": [
    "# Put the path to the directory containing the corpus files here\n",
    "CORPUSDIR = '/home/brunobrocai/Data/MoWiKo/Paper-themKorp-2/final_corpus'\n",
    "\n",
    "docs, metadata = load_files(CORPUSDIR)\n",
    "corpus = Corpus(docs, metadata)"
   ]
  },
  {
   "cell_type": "code",
   "execution_count": 3,
   "id": "7f9f67f1",
   "metadata": {},
   "outputs": [
    {
     "data": {
      "text/html": [
       "<div>\n",
       "<style scoped>\n",
       "    .dataframe tbody tr th:only-of-type {\n",
       "        vertical-align: middle;\n",
       "    }\n",
       "\n",
       "    .dataframe tbody tr th {\n",
       "        vertical-align: top;\n",
       "    }\n",
       "\n",
       "    .dataframe thead th {\n",
       "        text-align: right;\n",
       "    }\n",
       "</style>\n",
       "<table border=\"1\" class=\"dataframe\">\n",
       "  <thead>\n",
       "    <tr style=\"text-align: right;\">\n",
       "      <th></th>\n",
       "      <th>Total</th>\n",
       "      <th>Main</th>\n",
       "      <th>Side</th>\n",
       "    </tr>\n",
       "  </thead>\n",
       "  <tbody>\n",
       "    <tr>\n",
       "      <th>zeit.de</th>\n",
       "      <td>5781</td>\n",
       "      <td>53</td>\n",
       "      <td>25</td>\n",
       "    </tr>\n",
       "    <tr>\n",
       "      <th>spektrum.de</th>\n",
       "      <td>892</td>\n",
       "      <td>16</td>\n",
       "      <td>10</td>\n",
       "    </tr>\n",
       "    <tr>\n",
       "      <th>informatik-aktuell.de</th>\n",
       "      <td>64</td>\n",
       "      <td>5</td>\n",
       "      <td>6</td>\n",
       "    </tr>\n",
       "    <tr>\n",
       "      <th>Total</th>\n",
       "      <td>6737</td>\n",
       "      <td>74</td>\n",
       "      <td>41</td>\n",
       "    </tr>\n",
       "  </tbody>\n",
       "</table>\n",
       "</div>"
      ],
      "text/plain": [
       "                       Total  Main  Side\n",
       "zeit.de                 5781    53    25\n",
       "spektrum.de              892    16    10\n",
       "informatik-aktuell.de     64     5     6\n",
       "Total                   6737    74    41"
      ]
     },
     "execution_count": 3,
     "metadata": {},
     "output_type": "execute_result"
    }
   ],
   "source": [
    "sources = ['zeit.de', 'spektrum.de', 'informatik-aktuell.de']\n",
    "doccounts = {}\n",
    "main_doccounts = {}\n",
    "side_doccounts = {}\n",
    "\n",
    "for source in sources:\n",
    "    docs = [doc for doc in metadata if source in doc['url']]\n",
    "    doccounts[source] = len(docs)\n",
    "    main_doccounts[source] = len([\n",
    "        doc for doc in docs if doc.get('gold_label') == '1_hauptthema'])\n",
    "    side_doccounts[source] = len([\n",
    "        doc for doc in docs if doc.get('gold_label') == '2_nebenthema'])\n",
    "\n",
    "# Create a DataFrame to hold the counts\n",
    "df = pd.DataFrame.from_dict(doccounts, orient='index', columns=['Total'])\n",
    "df['Main'] = pd.Series(main_doccounts)\n",
    "df['Side'] = pd.Series(side_doccounts)\n",
    "# col sums\n",
    "df.loc['Total'] = df.sum()\n",
    "df"
   ]
  },
  {
   "cell_type": "code",
   "execution_count": 4,
   "id": "71c8d3d8",
   "metadata": {},
   "outputs": [
    {
     "name": "stdout",
     "output_type": "stream",
     "text": [
      "Files not annotated:  6317\n",
      "Files annotated:  420\n"
     ]
    }
   ],
   "source": [
    "annotation_count = len([\n",
    "    doc for doc in metadata if doc.get('gold_label', False)\n",
    "])\n",
    "print('Files not annotated: ', len(metadata) - annotation_count)\n",
    "print('Files annotated: ', annotation_count)"
   ]
  }
 ],
 "metadata": {
  "kernelspec": {
   "display_name": "myenv",
   "language": "python",
   "name": "python3"
  },
  "language_info": {
   "codemirror_mode": {
    "name": "ipython",
    "version": 3
   },
   "file_extension": ".py",
   "mimetype": "text/x-python",
   "name": "python",
   "nbconvert_exporter": "python",
   "pygments_lexer": "ipython3",
   "version": "3.12.3"
  }
 },
 "nbformat": 4,
 "nbformat_minor": 5
}
