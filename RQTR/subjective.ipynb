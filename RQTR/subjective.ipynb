{
 "cells": [
  {
   "cell_type": "markdown",
   "id": "8666c40f",
   "metadata": {},
   "source": [
    "# Subjective Queries\n",
    "\n",
    "Use one of several pre-defined queries with this notebook."
   ]
  },
  {
   "cell_type": "code",
   "execution_count": null,
   "id": "355a746b",
   "metadata": {},
   "outputs": [],
   "source": [
    "from src.corpus_creation import document_retriever as dr\n",
    "from src.load_data import load_files\n",
    "from src.corpus import Corpus\n",
    "from src.misc import custom_queries\n",
    "import re\n",
    "\n",
    "\n",
    "%load_ext autoreload\n",
    "%autoreload 2"
   ]
  },
  {
   "cell_type": "code",
   "execution_count": null,
   "id": "19ae03a0",
   "metadata": {},
   "outputs": [],
   "source": [
    "# Put the path to the directory containing the corpus files here\n",
    "CORPUSDIR = '/home/brunobrocai/Data/MoWiKo/Paper-themKorp-2/final_corpus'\n",
    "\n",
    "docs, metadata = load_files(CORPUSDIR)\n",
    "corpus = Corpus(docs, metadata)"
   ]
  },
  {
   "cell_type": "code",
   "execution_count": null,
   "id": "48628e70",
   "metadata": {},
   "outputs": [],
   "source": [
    "word_list = custom_queries.SUBJECTIVE_1\n",
    "\n",
    "hits = dr.match_wordlist(\n",
    "    corpus,\n",
    "    word_list,\n",
    "    escape=False,\n",
    "    flags=re.IGNORECASE,\n",
    ")"
   ]
  },
  {
   "cell_type": "code",
   "execution_count": null,
   "id": "cb7f6fad",
   "metadata": {},
   "outputs": [],
   "source": [
    "min_to_try = [1, 3, 5]\n",
    "for n in min_to_try:\n",
    "    print(f\"+++++ MIN == {n} +++++\")\n",
    "    hits = dr.match_wordlist(\n",
    "        corpus,\n",
    "        wordlist=word_list,\n",
    "        min=n,\n",
    "        unique=False,\n",
    "        escape=False,\n",
    "        flags=re.IGNORECASE\n",
    "    )\n",
    "    _ = dr.eval_retrieval(\n",
    "        corpus,\n",
    "        hits,\n",
    "        annotator='gold_label',\n",
    "        mode='pooling'\n",
    "    )\n",
    "    print()\n",
    "\n"
   ]
  }
 ],
 "metadata": {
  "kernelspec": {
   "display_name": "myenv",
   "language": "python",
   "name": "python3"
  },
  "language_info": {
   "codemirror_mode": {
    "name": "ipython",
    "version": 3
   },
   "file_extension": ".py",
   "mimetype": "text/x-python",
   "name": "python",
   "nbconvert_exporter": "python",
   "pygments_lexer": "ipython3",
   "version": "3.12.3"
  }
 },
 "nbformat": 4,
 "nbformat_minor": 5
}
