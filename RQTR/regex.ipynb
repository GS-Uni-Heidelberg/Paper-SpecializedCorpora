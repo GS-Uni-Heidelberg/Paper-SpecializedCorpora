{
 "cells": [
  {
   "cell_type": "markdown",
   "id": "bfbb72aa",
   "metadata": {},
   "source": [
    "# Find Documents with a Regex Pattern"
   ]
  },
  {
   "cell_type": "code",
   "execution_count": null,
   "id": "ccd2aab3",
   "metadata": {},
   "outputs": [],
   "source": [
    "# Setup: Import necessary libraries\n",
    "\n",
    "from src.corpus import Corpus, FrequencyCorpus\n",
    "from src.metrics import keyness\n",
    "from src.corpus_creation import document_retriever as dr\n",
    "import pathlib\n",
    "import json\n",
    "import pandas as pd\n",
    "import random\n",
    "from src.load_data import load_files, load_reference_sample\n",
    "\n",
    "%load_ext autoreload\n",
    "%autoreload 2"
   ]
  },
  {
   "cell_type": "code",
   "execution_count": null,
   "id": "968d2d95",
   "metadata": {},
   "outputs": [],
   "source": [
    "# Put the path to the directory containing the corpus files here\n",
    "CORPUSDIR = '/home/brunobrocai/Data/MoWiKo/Paper-themKorp/full'\n",
    "\n",
    "docs, metadata = load_files(CORPUSDIR)\n",
    "corpus = Corpus(docs, metadata)"
   ]
  },
  {
   "cell_type": "code",
   "execution_count": null,
   "id": "0d12754a",
   "metadata": {},
   "outputs": [],
   "source": [
    "ki_regex = r\"\"\"(?ix)  # Verbose mode, case-insensitive\n",
    "# Grundbegriffe KI\n",
    "\\b(?:KI|AI)\\b|\n",
    "\\bkünstlich(?:e|er|en|es)?\\s+Intelligenz\\b|\n",
    "\\bartificial\\s+intelligence\\b|\n",
    "\\bmaschinell(?:e|er|en|es)?\\s+Intelligenz\\b|\n",
    "\n",
    "# KI-Zusammensetzungen\n",
    "\\bKI-[a-zäöüß]+\\b|\n",
    "\n",
    "# Technologien und Methoden\n",
    "\\b(?:machine|maschinell(?:e[snm]?|er))\\s+learning\\b|\n",
    "\\bdeep\\s+learning\\b|\n",
    "\\btief(?:e[snm]?|er|es)\\s+lernen\\b|\n",
    "\\b(?:neural(?:e[snm]?|er|es)?|neuronale[snm]?)\\s+(?:netz(?:e|werk(?:e)?))\\b|\n",
    "\\breinforcement\\s+learning\\b|\n",
    "\\b(?:un)?überwacht(?:e[snm]?|er|es)?\\s+lernen\\b|\n",
    "\\b(?:un)?supervised\\s+learning\\b|\n",
    "\\b(?:sprach|language)\\s*modell(?:e|s)?\\b|\n",
    "\\b(?:foundation|fundament(?:al)?)[-\\s]*modell(?:e|s)?\\b|\n",
    "\n",
    "# Spezifische Fachbegriffe\n",
    "\\bCNN\\b|\\bRNN\\b|\\bLSTM\\b|\\bGAN\\b|\\bNLP\\b|\\bLLM(?:s)?\\b|\\bAGI\\b|\\bASI\\b|\n",
    "\\bnatural\\s+language\\s+(?:processing|understanding)\\b|\n",
    "\\bcomputer\\s+vision\\b|\n",
    "\\btransformer(?:-?architektur)?\\b|\n",
    "\\btextgenerierung\\b|\n",
    "\\bbilderzeugung\\b|\n",
    "\\b(?:text|sprach)[-\\s]+(?:zu|to)[-\\s]+bild\\b|\n",
    "\\bsprach(?:erkennung|verstehen|verarbeitung)\\b|\n",
    "\n",
    "# Bekannte KI-Systeme und Produkte\n",
    "\\bChatGPT\\b|\\bGPT(?:-[0-9]+)?\\b|\\bBERT\\b|\n",
    "\\bClaude\\b|\\bBard\\b|\\bGemini\\b|\\bCopilot\\b|\n",
    "\\bDALL-E\\b|\\bMidjourney\\b|\\bStable\\s+Diffusion\\b|\n",
    "\\bAlphaGo\\b|\\bAlphaFold\\b|\n",
    "\n",
    "# Unternehmen und Organisationen\n",
    "\\bOpenAI\\b|\\bAnthropic\\b|\\bDeepMind\\b|\n",
    "\\bGoogle\\s+(?:AI|Brain)\\b|\\bMicrosoft\\s+AI\\b|\\bMeta\\s+AI\\b|\n",
    "\\bHugging\\s+Face\\b|\\bStability\\s+AI\\b|\n",
    "\n",
    "# KI-Forscher\n",
    "\\b(?:Geoffrey\\s+Hinton|Yann\\s+LeCun|Yoshua\\s+Bengio|Andrew\\s+Ng|\n",
    "Demis\\s+Hassabis|Sam\\s+Altman|Andrej\\s+Karpathy|Fei-Fei\\s+Li|Ilya\\s+Sutskever)\\b|\n",
    "\n",
    "# KI-spezifische Terminologie\n",
    "\\bprompt\\s+engineering\\b|\n",
    "\\bhalluzination(?:en)?\\b|\n",
    "\\bfine(?:-|\\s+)tuning\\b|\\bfeinabstimmung\\b|\n",
    "\\bmodelltraining\\b|\\bembedding(?:s)?\\b|\n",
    "\\btokenisierung\\b|\\btoken(?:s)?\\b|\n",
    "\\battention\\s+mechanism\\b|\n",
    "\\btransfer\\s+learning\\b|\n",
    "\\b(?:few|zero)(?:-|\\s+)shot\\s+learning\\b|\n",
    "\\bgenerativ(?:e[snm]?|er|es)?\\s+(?:KI|AI)\\b|\n",
    "\\bgenerative\\s+(?:KI|AI)\\b|\n",
    "\\bmultimodal(?:e[snm]?|er|es)?(?:[-\\s]*(?:KI|AI))?\\b|\n",
    "\n",
    "# KI-Ethik und Konzepte\n",
    "\\bKI[-\\s]*ethik\\b|\\bAI[-\\s]*ethics\\b|\n",
    "\\bverantwortungsvolle[-\\s]*(?:KI|AI)\\b|\n",
    "\\bturing(?:-|\\s+)test\\b|\n",
    "\\balgorithmische\\s+verzerrung(?:en)?\\b|\n",
    "\\ballgemein(?:e[snm]?|er|es)?\\s+künstlich(?:e[snm]?|er|es)?\\s+intelligenz\\b|\n",
    "\\bkünstlich(?:e[snm]?|er|es)?\\s+superintelligenz\\b|\n",
    "\\bsingularität\\b(?:\\s+von\\s+KI)?\\b\n",
    "\"\"\""
   ]
  },
  {
   "cell_type": "code",
   "execution_count": null,
   "id": "dcaba3f7",
   "metadata": {},
   "outputs": [],
   "source": [
    "hits = dr.match_regex(\n",
    "    corpus,\n",
    "    ki_regex,\n",
    "    min=1,\n",
    ")"
   ]
  },
  {
   "cell_type": "code",
   "execution_count": null,
   "id": "7964ae50",
   "metadata": {},
   "outputs": [],
   "source": [
    "created_corpus = dr.corpus_from_found(\n",
    "    hits,\n",
    "    source_corpus=corpus,\n",
    "    goal_corpus='Corpus'\n",
    ")"
   ]
  },
  {
   "cell_type": "code",
   "execution_count": null,
   "id": "5dd950f4",
   "metadata": {},
   "outputs": [],
   "source": [
    "dr.eval_retrieval(\n",
    "    corpus,\n",
    "    hits,\n",
    "    annotator='majority_vote',\n",
    "    mode='pooling'\n",
    ")"
   ]
  },
  {
   "cell_type": "code",
   "execution_count": null,
   "id": "2ac01f35",
   "metadata": {},
   "outputs": [],
   "source": [
    "dr.prepare_annotations(\n",
    "    corpus,\n",
    "    hits,\n",
    "    annotator='majority_vote',  # Ignore everything that was annotated at least once\n",
    "    goalpath='annotation_round2'\n",
    ")"
   ]
  }
 ],
 "metadata": {
  "kernelspec": {
   "display_name": "myenv",
   "language": "python",
   "name": "python3"
  },
  "language_info": {
   "codemirror_mode": {
    "name": "ipython",
    "version": 3
   },
   "file_extension": ".py",
   "mimetype": "text/x-python",
   "name": "python",
   "nbconvert_exporter": "python",
   "pygments_lexer": "ipython3",
   "version": "3.12.3"
  }
 },
 "nbformat": 4,
 "nbformat_minor": 5
}
