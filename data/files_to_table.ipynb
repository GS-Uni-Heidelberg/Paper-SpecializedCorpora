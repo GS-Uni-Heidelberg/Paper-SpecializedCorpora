{
 "cells": [
  {
   "cell_type": "code",
   "execution_count": null,
   "id": "ca4d48f6",
   "metadata": {},
   "outputs": [],
   "source": [
    "from pathlib import Path\n",
    "import json\n",
    "import pandas as pd"
   ]
  },
  {
   "cell_type": "code",
   "execution_count": null,
   "id": "131c1290",
   "metadata": {},
   "outputs": [],
   "source": [
    "CORPUSDIR = '/home//.../final_corpus'\n",
    "\n",
    "data = []\n",
    "for file in Path(CORPUSDIR).glob('*.json'):\n",
    "    with open(file, 'r', encoding='utf-8') as f:\n",
    "        json_data = json.load(f)\n",
    "        data.append(json_data)"
   ]
  },
  {
   "cell_type": "code",
   "execution_count": null,
   "id": "e87889b8",
   "metadata": {},
   "outputs": [],
   "source": [
    "def keep_keys(d, keys):\n",
    "    return {\n",
    "        k: v for k, v in d.items() if k in keys\n",
    "    }\n",
    "\n",
    "keys_to_keep = [\n",
    "    'url',\n",
    "    'filename',\n",
    "    'date',\n",
    "    'og:title', 'og:description',\n",
    "    'h1', 'h2', 'time_crawled',\n",
    "    'expert_annotator_1', 'expert_annotator_2',\n",
    "    'student_annotator_1', 'student_annotator_2',\n",
    "    'gold_label', 'Claude_0shot',\n",
    "    'GPT4o'\n",
    "]\n",
    "filtered_data = [keep_keys(item, keys_to_keep) for item in data]"
   ]
  },
  {
   "cell_type": "code",
   "execution_count": null,
   "id": "5826cb12",
   "metadata": {},
   "outputs": [],
   "source": [
    "df = pd.DataFrame(filtered_data)\n",
    "\n",
    "# reorder columns\n",
    "df = df[keys_to_keep]\n",
    "\n",
    "# rename columns\n",
    "df = df.rename(columns={\n",
    "    'filename': 'id',\n",
    "    'gold_label': 'label',\n",
    "    'Claude_0shot': 'claude3.7_label',\n",
    "    'GPT4o': 'gpt4o_label',\n",
    "})\n",
    "df"
   ]
  },
  {
   "cell_type": "code",
   "execution_count": null,
   "id": "6586882f",
   "metadata": {},
   "outputs": [],
   "source": [
    "df.to_csv('articles.csv', index=False, encoding='utf-8')"
   ]
  }
 ],
 "metadata": {
  "kernelspec": {
   "display_name": "myenv",
   "language": "python",
   "name": "python3"
  },
  "language_info": {
   "codemirror_mode": {
    "name": "ipython",
    "version": 3
   },
   "file_extension": ".py",
   "mimetype": "text/x-python",
   "name": "python",
   "nbconvert_exporter": "python",
   "pygments_lexer": "ipython3",
   "version": "3.12.3"
  }
 },
 "nbformat": 4,
 "nbformat_minor": 5
}
