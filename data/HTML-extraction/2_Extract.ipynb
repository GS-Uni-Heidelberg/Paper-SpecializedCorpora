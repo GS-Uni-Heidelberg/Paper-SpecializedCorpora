{
 "cells": [
  {
   "cell_type": "markdown",
   "metadata": {},
   "source": [
    "# Extract Data from HTML\n",
    "This notebook allows you to extract data from json files that store crawled html. Use to get the text and the metadata from the html."
   ]
  },
  {
   "cell_type": "code",
   "execution_count": null,
   "metadata": {},
   "outputs": [],
   "source": [
    "import os\n",
    "import json\n",
    "from functions import cleaners, meta_retriever, utils, _meta_functions\n",
    "\n",
    "%load_ext autoreload\n",
    "%autoreload 2"
   ]
  },
  {
   "cell_type": "markdown",
   "metadata": {},
   "source": [
    "Specify the directory where the json files are stored and the directory where you want to save the extracted data."
   ]
  },
  {
   "cell_type": "code",
   "execution_count": null,
   "metadata": {},
   "outputs": [],
   "source": [
    "SRC_DIR = '...'\n",
    "GOAL_DIR = '....'"
   ]
  },
  {
   "cell_type": "markdown",
   "metadata": {},
   "source": [
    "Create an html cleaner object and specify its attributes for the website you are extracting data from. You should have conigured config.yaml after playing around with the Explore HTML notebook."
   ]
  },
  {
   "cell_type": "code",
   "execution_count": null,
   "metadata": {},
   "outputs": [],
   "source": [
    "ArtClean = cleaners.ArticleCleaner()\n",
    "ArtClean.src_dir = SRC_DIR\n",
    "ArtClean.goal_dir = GOAL_DIR\n",
    "ArtClean.config_section = 'infoakt-themkorp'"
   ]
  },
  {
   "cell_type": "markdown",
   "metadata": {},
   "source": [
    "Add an object that can retrieve metadata from the html. Standard: MetaRetriever class."
   ]
  },
  {
   "cell_type": "code",
   "execution_count": null,
   "metadata": {},
   "outputs": [],
   "source": [
    "MetaGet = meta_retriever.MetaRetriever()\n",
    "# MetaGet.kywd_extraction_func = \"no_keywords\""
   ]
  },
  {
   "cell_type": "markdown",
   "metadata": {},
   "source": [
    "... tell your cleaner to use the metadata retriever."
   ]
  },
  {
   "cell_type": "code",
   "execution_count": null,
   "metadata": {},
   "outputs": [],
   "source": [
    "ArtClean.meta_retriever = MetaGet\n",
    "ArtClean.regen_existing = False"
   ]
  },
  {
   "cell_type": "markdown",
   "metadata": {},
   "source": [
    "TEST the cleaner on a single html file."
   ]
  },
  {
   "cell_type": "code",
   "execution_count": null,
   "metadata": {},
   "outputs": [],
   "source": [
    "ArtClean.print_example_text()"
   ]
  },
  {
   "cell_type": "markdown",
   "metadata": {},
   "source": [
    "Start the extraction process!"
   ]
  },
  {
   "cell_type": "code",
   "execution_count": null,
   "metadata": {},
   "outputs": [],
   "source": [
    "ArtClean.clean_articles(skip_existing=True)"
   ]
  },
  {
   "cell_type": "markdown",
   "metadata": {},
   "source": [
    "Delete duplicate text"
   ]
  },
  {
   "cell_type": "code",
   "execution_count": null,
   "metadata": {},
   "outputs": [],
   "source": [
    "seen_texts = set()\n",
    "for file in os.listdir(GOAL_DIR):\n",
    "    if file.endswith('.json'):\n",
    "        with open(os.path.join(GOAL_DIR, file), 'r', encoding='utf-8') as f:\n",
    "            data = json.load(f)\n",
    "    text = data['text']\n",
    "    if text in seen_texts:\n",
    "        print('Duplicate text:', file)\n",
    "        os.remove(os.path.join(GOAL_DIR, file))\n",
    "    seen_texts.add(text)"
   ]
  },
  {
   "cell_type": "code",
   "execution_count": null,
   "metadata": {},
   "outputs": [],
   "source": [
    "# delete duplicate og_urls\n",
    "seen_urls = set()\n",
    "for file in os.listdir(GOAL_DIR):\n",
    "    if file.endswith('.json'):\n",
    "        with open(os.path.join(GOAL_DIR, file), 'r', encoding='utf-8') as f:\n",
    "            data = json.load(f)\n",
    "    url = data.get('og:url')\n",
    "    if url in seen_urls and url is not None:\n",
    "        print('Duplicate og:url:', file)\n",
    "        os.remove(os.path.join(GOAL_DIR, file))\n",
    "    seen_urls.add(url)"
   ]
  },
  {
   "cell_type": "markdown",
   "metadata": {},
   "source": [
    "Print the extracted data (example)"
   ]
  },
  {
   "cell_type": "code",
   "execution_count": null,
   "metadata": {},
   "outputs": [],
   "source": [
    "first_file = os.listdir(GOAL_DIR)[17]\n",
    "with open(os.path.join(GOAL_DIR, first_file), 'r', encoding='utf-8') as f:\n",
    "    data = json.load(f)\n",
    "\n",
    "print(data['text'])"
   ]
  }
 ],
 "metadata": {
  "kernelspec": {
   "display_name": "myenv",
   "language": "python",
   "name": "python3"
  },
  "language_info": {
   "codemirror_mode": {
    "name": "ipython",
    "version": 3
   },
   "file_extension": ".py",
   "mimetype": "text/x-python",
   "name": "python",
   "nbconvert_exporter": "python",
   "pygments_lexer": "ipython3",
   "version": "3.12.3"
  }
 },
 "nbformat": 4,
 "nbformat_minor": 2
}
